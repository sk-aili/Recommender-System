{
  "cells": [
    {
      "cell_type": "markdown",
      "metadata": {
        "id": "view-in-github",
        "colab_type": "text"
      },
      "source": [
        "<a href=\"https://colab.research.google.com/github/sk-aili/market-basket-analysis/blob/main/Market_Basket.ipynb\" target=\"_parent\"><img src=\"https://colab.research.google.com/assets/colab-badge.svg\" alt=\"Open In Colab\"/></a>"
      ]
    },
    {
      "cell_type": "markdown",
      "metadata": {
        "id": "4n5HG5uodyRs"
      },
      "source": [
        "# Recommender\n"
      ]
    },
    {
      "cell_type": "markdown",
      "metadata": {
        "id": "KFxkNPA4dyRy"
      },
      "source": [
        "## Importing Libraries"
      ]
    },
    {
      "cell_type": "code",
      "source": [
        "! pip install squarify gapminder --quiet"
      ],
      "metadata": {
        "id": "uCCgFx4gu42H"
      },
      "execution_count": null,
      "outputs": []
    },
    {
      "cell_type": "code",
      "execution_count": null,
      "metadata": {
        "id": "iv2oGvYFdyRy"
      },
      "outputs": [],
      "source": [
        "import pandas as pd\n",
        "import numpy as np\n",
        "import matplotlib.pyplot as plt\n",
        "import seaborn as sns\n",
        "import squarify\n",
        "import networkx as nx\n",
        "import warnings\n",
        "import matplotlib as mpl\n",
        "import gapminder as gapminder\n",
        "from mlxtend.frequent_patterns import apriori\n",
        "from mlxtend.frequent_patterns import association_rules\n",
        "from sklearn.preprocessing import LabelEncoder\n",
        "from mlxtend.frequent_patterns import fpgrowth\n",
        "\n",
        "\n",
        "%matplotlib inline\n",
        "\n",
        "from mlxtend.frequent_patterns import apriori\n",
        "from mlxtend.frequent_patterns import association_rules\n",
        "\n",
        "from IPython.core.interactiveshell import InteractiveShell\n",
        "InteractiveShell.ast_node_interactivity = \"all\"\n",
        "import warnings\n",
        "warnings.filterwarnings('ignore')\n",
        "warnings.filterwarnings(action='ignore', category=DeprecationWarning)\n",
        "from IPython.display import display\n",
        "pd.set_option('display.max_columns', None)\n",
        "pd.set_option('display.max_rows', None)"
      ]
    },
    {
      "cell_type": "markdown",
      "metadata": {
        "id": "5So4ctLOdyR0"
      },
      "source": [
        "## Data Understanding"
      ]
    },
    {
      "cell_type": "code",
      "execution_count": null,
      "metadata": {
        "id": "Mnu2IdzkdyR0"
      },
      "outputs": [],
      "source": [
        "customer = pd.read_csv(\"/content/customer.csv\")\n",
        "print(\"Customer data\")\n",
        "customer.head()\n",
        "product=pd.read_csv(\"/content/product.csv\")\n",
        "print(\"Product data\")\n",
        "product.head()\n",
        "product_class=pd.read_csv(\"/content/product_class.csv\")\n",
        "print(\"Product Class data\")\n",
        "product_class.head()\n",
        "region=pd.read_csv(\"/content/region.csv\")\n",
        "print(\"Region data\")\n",
        "region.head()\n",
        "df=pd.read_csv(\"/content/sales.csv\")\n",
        "print(\"Sales data\")\n",
        "df.head()\n",
        "store=pd.read_csv(\"/content/store.csv\")\n",
        "print(\"Store data\")\n",
        "store.head()\n",
        "time_by_day=pd.read_csv(\"/content/time_by_day.csv\")\n",
        "print(\"Time By Day data\")\n",
        "time_by_day.head()\n",
        "time_by_day.tail()\n",
        "\n"
      ]
    },
    {
      "cell_type": "code",
      "source": [
        "df=df.merge(customer,on='customer_id')\n",
        "#df.head()\n",
        "df=df.merge(product,on='product_id')\n",
        "#df.head()\n",
        "df=df.merge(product_class,on='product_class_id')\n",
        "#df.head()\n",
        "df=df.merge(store,on='store_id')\n",
        "#df.head()\n",
        "df=df.merge(region,on='region_id')\n",
        "#df.head()\n",
        "df=df.merge(time_by_day,on='time_id')\n",
        "df.head()\n",
        "df.shape\n"
      ],
      "metadata": {
        "id": "NN5Amkgtpbu0"
      },
      "execution_count": null,
      "outputs": []
    },
    {
      "cell_type": "code",
      "execution_count": null,
      "metadata": {
        "id": "mu2ZnXCNdySA"
      },
      "outputs": [],
      "source": [
        "df.describe()\n",
        "df.describe(include=['O'])\n",
        "df.dtypes"
      ]
    },
    {
      "cell_type": "code",
      "execution_count": null,
      "metadata": {
        "id": "PTmYlC6ddySA"
      },
      "outputs": [],
      "source": [
        "temp = pd.DataFrame(index=df.columns)\n",
        "temp['data_type']=df.dtypes\n",
        "temp['null_count']=df.isnull().sum()\n",
        "temp['unique_count']=df.nunique()\n",
        "temp"
      ]
    },
    {
      "cell_type": "markdown",
      "metadata": {
        "id": "zWDyWUUQdySB"
      },
      "source": [
        "### Univariate Analysis"
      ]
    },
    {
      "cell_type": "code",
      "execution_count": null,
      "metadata": {
        "id": "XDglM4AwdySB"
      },
      "outputs": [],
      "source": [
        "fig=plt.figure(figsize=(8,6))\n",
        "df['product_class_id'].plot.hist(bins = 50)\n",
        "plt.title(\"Frequency plot of Department ID\")\n",
        "plt.xlabel('department id')\n",
        "plt.ylabel('Frequency')"
      ]
    },
    {
      "cell_type": "code",
      "execution_count": null,
      "metadata": {
        "id": "BnpvUmxBdySC"
      },
      "outputs": [],
      "source": [
        "fig=plt.figure(figsize=(8,6))\n",
        "df['product_id'].plot.hist(bins = 100)\n",
        "plt.title(\"Frequency plot of Product ID\")\n",
        "plt.xlabel('product id')\n",
        "plt.ylabel('Frequency')"
      ]
    },
    {
      "cell_type": "code",
      "execution_count": null,
      "metadata": {
        "id": "q2xX2Yv0dySC"
      },
      "outputs": [],
      "source": [
        "fig=plt.figure(figsize=(6,4))\n",
        "df['unit_sales'].plot.hist(bins = 25)\n",
        "plt.title(\"Frequency plot of Unit Sales\")\n",
        "plt.xlabel('Unit Sales')\n",
        "plt.ylabel(\"Fr\")"
      ]
    },
    {
      "cell_type": "code",
      "execution_count": null,
      "metadata": {
        "id": "IbFGWaVDdySC"
      },
      "outputs": [],
      "source": [
        "## When does people order?\n",
        "fig=plt.figure(figsize=(8, 6))\n",
        "df['the_year'].plot.hist(bins=10)\n",
        "plt.title(\"Frequency of orders by Year\")\n",
        "plt.xlabel('year')\n",
        "plt.xticks([1996,1997,1998,1999])\n",
        "plt.ylabel(\"Frequency\")\n",
        "plt.show()"
      ]
    },
    {
      "cell_type": "code",
      "execution_count": null,
      "metadata": {
        "id": "-t2yFexmdySD"
      },
      "outputs": [],
      "source": [
        "fig=plt.figure(figsize=(8,6))\n",
        "df['the_month'].plot.hist(bins=50)\n",
        "plt.title('Frequency of orders by month')\n",
        "plt.xlabel('Month')\n",
        "plt.ylabel('Frequency')\n",
        "plt.show()"
      ]
    },
    {
      "cell_type": "code",
      "execution_count": null,
      "metadata": {
        "id": "8sRBRJfVdySD"
      },
      "outputs": [],
      "source": [
        "fig=plt.figure(figsize=(8,6))\n",
        "df['day_of_month'].plot.hist(bins=75)\n",
        "plt.title(\"Frequency of orders by day of a month\")\n",
        "plt.xlabel('Day of month')\n",
        "plt.ylabel('Frequency')\n",
        "plt.show()"
      ]
    },
    {
      "cell_type": "code",
      "execution_count": null,
      "metadata": {
        "id": "Qf3eGXnudySD"
      },
      "outputs": [],
      "source": [
        "df_day_freq=df['the_day'].value_counts()\n",
        "fig=plt.figure(figsize=(8, 6))\n",
        "df_day_freq.plot.bar()\n",
        "plt.title(\"Frequency of orders by day of a Week\")\n",
        "plt.xlabel('Day of Week')\n",
        "plt.ylabel('Frequency')\n",
        "plt.show()"
      ]
    },
    {
      "cell_type": "code",
      "execution_count": null,
      "metadata": {
        "id": "biADqu5AdySE"
      },
      "outputs": [],
      "source": [
        "df['products'] = 'Products'\n",
        "products = df.truncate(before = 605, after = 615)\n",
        "products = nx.from_pandas_edgelist(products, source = 'products', target = 'product_name', edge_attr = True)\n",
        "plt.rcParams['figure.figsize']=(12, 12)\n",
        "pos=nx.spring_layout(products)\n",
        "nx.draw_networkx_nodes(products,pos,node_size=10000,node_color='grey')\n",
        "nx.draw_networkx_edges(products, pos, width = 1, alpha = 0.6, edge_color = 'black')\n",
        "nx.draw_networkx_labels(products, pos, font_size = 10)\n",
        "plt.axis('off')\n",
        "plt.grid()\n",
        "plt.title('Top 10 First Choices in Products')\n",
        "plt.show()"
      ]
    },
    {
      "cell_type": "code",
      "execution_count": null,
      "metadata": {
        "id": "FP78FNTwdySE"
      },
      "outputs": [],
      "source": [
        "## What are the most ordered products?\n",
        "# df['product_name'].value_counts()\n",
        "df['product_name'].value_counts().head(10)/len(df)*100"
      ]
    },
    {
      "cell_type": "code",
      "execution_count": null,
      "metadata": {
        "id": "RCe6mXlxdySG"
      },
      "outputs": [],
      "source": [
        "df_freq_products=df['product_name'].value_counts().iloc[:20]\n",
        "fig=plt.figure(figsize=(8, 5))\n",
        "df_freq_products.plot.bar()\n",
        "plt.title(\"Barplot of Top 20 Bought Products\")\n",
        "plt.xlabel(\"Product Name\")\n",
        "plt.ylabel(\"Frequency\")"
      ]
    },
    {
      "cell_type": "code",
      "execution_count": null,
      "metadata": {
        "id": "hQlfGymGdySE"
      },
      "outputs": [],
      "source": [
        "df['departments'] = 'Departments'\n",
        "departments = df.truncate(before = 150, after = 195)\n",
        "departments = nx.from_pandas_edgelist(departments, source = 'departments', target = 'department', edge_attr = True)\n",
        "warnings.filterwarnings('ignore')\n",
        "plt.rcParams['figure.figsize']=(12,12)\n",
        "pos=nx.spring_layout(departments)\n",
        "nx.draw_networkx_nodes(departments,pos,node_size=10000,node_color='orange')\n",
        "nx.draw_networkx_edges(departments, pos, width = 1, alpha = 0.6, edge_color = 'black')\n",
        "nx.draw_networkx_labels(departments, pos, font_size = 10)\n",
        "plt.axis('off')\n",
        "plt.grid()\n",
        "plt.title('Top 10 First Choices in Departments', fontsize = 11)\n",
        "plt.show()"
      ]
    },
    {
      "cell_type": "code",
      "execution_count": null,
      "metadata": {
        "id": "QLLG94UDdySF"
      },
      "outputs": [],
      "source": [
        "## what are the most visited departments?\n",
        "# df['department'].value_counts()\n",
        "df['department'].value_counts().head(10)/len(df)*100"
      ]
    },
    {
      "cell_type": "code",
      "execution_count": null,
      "metadata": {
        "id": "_TKHlTOkdySG"
      },
      "outputs": [],
      "source": [
        "fig=plt.figure(figsize=(10,5))\n",
        "df['department'].value_counts().plot(kind='bar')\n",
        "plt.title(\"Barplot Of The Most Visited Department\")\n",
        "plt.xlabel(\"Department\")\n",
        "plt.ylabel(\"Frequency\")"
      ]
    },
    {
      "cell_type": "code",
      "execution_count": null,
      "metadata": {
        "id": "XTWjcmIvdySF"
      },
      "outputs": [],
      "source": [
        "## what are the most visited aisle?\n",
        "# df['subcategory'].value_counts()\n",
        "df['subcategory'].value_counts().head(10)/len(df)*100"
      ]
    },
    {
      "cell_type": "code",
      "execution_count": null,
      "metadata": {
        "id": "pXHLvpcGdySG"
      },
      "outputs": [],
      "source": [
        "df_subcategory_freq=df['subcategory'].value_counts().iloc[:50]\n",
        "fig=plt.figure(figsize=(10,5))\n",
        "df_subcategory_freq.plot.bar()\n",
        "plt.title(\"Barplot Of The Most Visited Aisle\")\n",
        "plt.xlabel('Aisle')\n",
        "plt.ylabel('Frequency')"
      ]
    },
    {
      "cell_type": "markdown",
      "metadata": {
        "id": "fAewiHCmdySG"
      },
      "source": [
        "**Array of Most Bought Product**"
      ]
    },
    {
      "cell_type": "code",
      "execution_count": null,
      "metadata": {
        "id": "LI_A1oJrdySH"
      },
      "outputs": [],
      "source": [
        "y=df_freq_products.head(50).to_frame()\n",
        "y.index"
      ]
    },
    {
      "cell_type": "markdown",
      "metadata": {
        "id": "SgQNqtmPdySH"
      },
      "source": [
        "## Feature Engineering"
      ]
    },
    {
      "cell_type": "code",
      "execution_count": null,
      "metadata": {
        "id": "cwRPEpQsdySH"
      },
      "outputs": [],
      "source": [
        "df.shape\n",
        "df.drop_duplicates()\n",
        "df.shape"
      ]
    },
    {
      "cell_type": "markdown",
      "metadata": {
        "id": "vVufv-cGdySI"
      },
      "source": [
        "### Bivariate Analysis"
      ]
    },
    {
      "cell_type": "code",
      "execution_count": null,
      "metadata": {
        "id": "F3fUPjUSdySI"
      },
      "outputs": [],
      "source": [
        "data_user_orders_num=df.groupby('customer_id')['unit_sales'].count()\n",
        "source_data = {}\n",
        "for i in range(10):\n",
        "    source_data[str(10*i)+'-'+str(10*(i+1))]=len([x for x in list(data_user_orders_num) if x>=i*10 and x<(i+1)*10])\n",
        "\n",
        "font_size=10\n",
        "fig_size=(8,6)\n",
        "mpl.rcParams['font.size']=font_size\n",
        "mpl.rcParams['figure.figsize']=fig_size\n",
        "bar_width=0.3\n",
        "x_axis = tuple(source_data.keys())\n",
        "y_axis = tuple(source_data.values())\n",
        "#assign color\n",
        "plt.bar(x_axis, y_axis, color='orange')\n",
        "# descrpitions for x-axis, y-axis\n",
        "plt.xlabel('Unit sales')\n",
        "plt.ylabel(\"No. of customers\")\n",
        "plt.title(\"Bar Plot Between Customers and their Products per Order\")\n",
        "plt.show()"
      ]
    },
    {
      "cell_type": "code",
      "execution_count": null,
      "metadata": {
        "id": "OYaK1KVRdySJ"
      },
      "outputs": [],
      "source": [
        "## Transaction ID - create transaction id which denotes a basket\n",
        "df['transaction_id'] = df['customer_id'].astype(str) + df['time_id'].astype(str)\n",
        "cols = [76,2,0,23]\n",
        "order_products=df[df.columns[cols]]\n",
        "## Average products bought by customers per order\n",
        "data_user_products_num1=order_products.groupby('transaction_id')['product_id'].count()\n",
        "data_user_products_num1=pd.DataFrame(data_user_products_num1)\n",
        "data_user_products_num1['transaction_id']=list(data_user_products_num1.index)\n",
        "data_user_products_num1.columns=['product_num','orderid']\n",
        "data_user_products_num2=pd.merge(data_user_products_num1,df[['transaction_id','customer_id']],on='transaction_id',how='left')\n",
        "data_user_products_num3=data_user_products_num2.groupby('customer_id')['product_num'].agg(['sum','count'])\n",
        "data_user_products_num3['avg']=data_user_products_num3['sum']/data_user_products_num3['count']\n",
        "data_user_products_num3.head()"
      ]
    },
    {
      "cell_type": "code",
      "execution_count": null,
      "metadata": {
        "id": "AH_I2ztPdySJ"
      },
      "outputs": [],
      "source": [
        "# Featured Products\n",
        "cols = [1,36,38,24]\n",
        "departments=df[df.columns[cols]]\n",
        "temp=['department']\n",
        "produce=df.loc[df['department'] == 'Produce']\n",
        "top_produce=produce['product_name'].value_counts().iloc[:10]\n",
        "snacks=df.loc[df['department']=='Snack Foods']\n",
        "top_snacks=snacks['product_name'].value_counts().iloc[:10]\n",
        "household=df.loc[df['department']=='Household']\n",
        "top_household=household['product_name'].value_counts().iloc[:10]\n",
        "frozen=df.loc[df['department']=='Frozen Foods']\n",
        "top_frozen=frozen['product_name'].value_counts().iloc[:10]\n",
        "baking=df.loc[df['department']=='Baking Goods']\n",
        "top_baking=baking['product_name'].value_counts().iloc[:10]\n",
        "canned=df.loc[df['department']=='Canned Foods']\n",
        "top_canned=canned['product_name'].value_counts().iloc[:10]\n",
        "dairy=(df.loc[df['department'] == 'Dairy'])\n",
        "top_dairy=dairy['product_name'].value_counts().iloc[:10]\n",
        "dairy=(df.loc[df['department'] == 'Health and Hygiene'])\n",
        "top_dairy=dairy['product_name'].value_counts().iloc[:10]\n",
        "dairy=(df.loc[df['department'] == 'Beverages'])\n",
        "top_dairy=dairy['product_name'].value_counts().iloc[:10]\n",
        "dairy=(df.loc[df['department'] == 'Deli'])\n",
        "top_dairy=dairy['product_name'].value_counts().iloc[:10]\n",
        "dairy=(df.loc[df['department'] == 'Alcoholic Beverages'])\n",
        "top_dairy=dairy['product_name'].value_counts().iloc[:10]\n",
        "dairy=(df.loc[df['department'] == 'Starchy Foods'])\n",
        "top_dairy=dairy['product_name'].value_counts().iloc[:10]\n",
        "dairy=(df.loc[df['department'] == 'Eggs'])\n",
        "top_dairy=dairy['product_name'].value_counts().iloc[:10]"
      ]
    },
    {
      "cell_type": "code",
      "execution_count": null,
      "metadata": {
        "id": "HfM9ggf1dySM"
      },
      "outputs": [],
      "source": [
        "## Top 100 most frequently purchased products\n",
        "cols = [76,2,0,23,6,1]\n",
        "product_name=df[df.columns[cols]]\n",
        "productCountDf = product_name.groupby(\"product_id\",as_index = False)['transaction_id'].count()\n",
        "productCountDf = productCountDf.sort_values(\"transaction_id\",ascending = False)\n",
        "topProdFrame = productCountDf.iloc[0:100,:]\n",
        "productId= topProdFrame.loc[:,[\"product_id\"]]"
      ]
    },
    {
      "cell_type": "code",
      "execution_count": null,
      "metadata": {
        "id": "y5ZQQWjSdySN"
      },
      "outputs": [],
      "source": [
        "## Orders containting the the most frequently purchased products\n",
        "MarketBasketdf = product_name[0:0]\n",
        "for i in range(0,99):\n",
        "    pId = productId.iloc[i]['product_id']\n",
        "    stDf = product_name[product_name.product_id == pId ]\n",
        "    MarketBasketdf = MarketBasketdf.append(stDf,ignore_index = False)\n",
        "\n",
        "basket = MarketBasketdf.groupby(['transaction_id','product_name'])['unit_sales'].sum().unstack().reset_index().fillna(0).set_index('transaction_id')"
      ]
    },
    {
      "cell_type": "markdown",
      "metadata": {
        "id": "bj-GQvbudySO"
      },
      "source": [
        "**One Hot Encoding**"
      ]
    },
    {
      "cell_type": "code",
      "execution_count": null,
      "metadata": {
        "id": "tt3lH7lPdySO"
      },
      "outputs": [],
      "source": [
        "def encode_units(x):\n",
        "    if x <= 0:\n",
        "        return 0\n",
        "    if x >= 1:\n",
        "        return 1\n"
      ]
    },
    {
      "cell_type": "code",
      "execution_count": null,
      "metadata": {
        "id": "JnnvlsskdySO"
      },
      "outputs": [],
      "source": [
        "basket_sets = basket.applymap(encode_units)\n",
        "dummy=basket_sets.head(10000)"
      ]
    },
    {
      "cell_type": "markdown",
      "metadata": {
        "id": "RuGPBjIKdySP"
      },
      "source": [
        "**Apriori Algorithm & its Recommendations**"
      ]
    },
    {
      "cell_type": "code",
      "execution_count": null,
      "metadata": {
        "id": "jzu1RNTedySP"
      },
      "outputs": [],
      "source": [
        "## Frequent items with support 0.01% using Apriori Algorithm\n",
        "frequent_itemsets = apriori(dummy, min_support=0.0001, use_colnames=True)"
      ]
    },
    {
      "cell_type": "code",
      "execution_count": null,
      "metadata": {
        "id": "-_BOKwyzdySP"
      },
      "outputs": [],
      "source": [
        "apriori_rules = association_rules(frequent_itemsets, metric=\"lift\", min_threshold= 1)\n",
        "apriori_rules[ (apriori_rules['lift'] >= 50) & (apriori_rules['confidence'] >= 0.01) ]"
      ]
    },
    {
      "cell_type": "code",
      "execution_count": null,
      "metadata": {
        "id": "DP4rWnotdySP"
      },
      "outputs": [],
      "source": [
        "def recommendations_using_Apriori(item):\n",
        "    recommend = []\n",
        "    for i in range(0,2646):\n",
        "        if item == apriori_rules.iloc[i,0]:\n",
        "            recommend.append(apriori_rules.iloc[i,1])\n",
        "\n",
        "    return recommend"
      ]
    },
    {
      "cell_type": "code",
      "execution_count": null,
      "metadata": {
        "id": "Uz2edDiOdySP"
      },
      "outputs": [],
      "source": [
        "## 5 Recommendations with Better Chicken Noodle Soup\n",
        "product_name = {'Better Chicken Noodle Soup'}\n",
        "recommentations=recommendations_using_Apriori(product_name)\n",
        "print(*recommentations[0:5], sep = \"\\n\")"
      ]
    },
    {
      "cell_type": "code",
      "execution_count": null,
      "metadata": {
        "id": "7nJtRUc3dySQ"
      },
      "outputs": [],
      "source": [
        "## 10 Recommendations with Moms Potato Salad\n",
        "product_name = {'Moms Potato Salad'}\n",
        "recommentations=recommendations_using_Apriori(product_name)\n",
        "print(*recommentations[0:10], sep = \"\\n\")"
      ]
    },
    {
      "cell_type": "code",
      "execution_count": null,
      "metadata": {
        "id": "8Oh8ZcrQdySQ"
      },
      "outputs": [],
      "source": [
        "## 15 Recommendations with Carrington Ice Cream Sandwich\n",
        "product_name = {'Carrington Ice Cream Sandwich'}\n",
        "recommentations=recommendations_using_Apriori(product_name)\n",
        "print(*recommentations[0:15], sep = \"\\n\")"
      ]
    },
    {
      "cell_type": "markdown",
      "metadata": {
        "id": "HJEeGdH0dySQ"
      },
      "source": [
        "**Fpgrowth Algorithm & its Recommendations**"
      ]
    },
    {
      "cell_type": "code",
      "execution_count": null,
      "metadata": {
        "id": "gFzy43WhdySQ"
      },
      "outputs": [],
      "source": [
        "## Frequent Items with support 0.001% using Fpgrowth Algorithm\n",
        "freq_items=fpgrowth(dummy,min_support=.0001,use_colnames=True)\n",
        "## Association Rules using Fpgrowth Algorithm\n",
        "fpgrowth_rules=association_rules(freq_items,metric=\"lift\",min_threshold=1)"
      ]
    },
    {
      "cell_type": "code",
      "execution_count": null,
      "metadata": {
        "id": "iobHxVAQdySR"
      },
      "outputs": [],
      "source": [
        "def recommendations_using_Fpgrowth(item):\n",
        "    recommend = []\n",
        "    for i in range(0,2646):\n",
        "        if item == fpgrowth_rules.iloc[i,0]:\n",
        "            recommend.append(fpgrowth_rules.iloc[i,1])\n",
        "\n",
        "    return recommend"
      ]
    },
    {
      "cell_type": "code",
      "execution_count": null,
      "metadata": {
        "id": "0--b_GBYdySR"
      },
      "outputs": [],
      "source": [
        "## 5 Recommendations with Better Chicken Noodle Soup\n",
        "product_name = {'Better Chicken Noodle Soup'}\n",
        "recommentations=recommendations_using_Fpgrowth(product_name)\n",
        "print(*recommentations[0:5], sep = \"\\n\")"
      ]
    },
    {
      "cell_type": "code",
      "execution_count": null,
      "metadata": {
        "id": "iH2pcLRydySR"
      },
      "outputs": [],
      "source": [
        "## 10 Recommendations with Moms Potato Salad\n",
        "product_name = {'Moms Potato Salad'}\n",
        "recommentations=recommendations_using_Fpgrowth(product_name)\n",
        "print(*recommentations[0:10], sep = \"\\n\")"
      ]
    },
    {
      "cell_type": "code",
      "execution_count": null,
      "metadata": {
        "id": "gyUd2a67dySR"
      },
      "outputs": [],
      "source": [
        "## 15 Recommendations with Carrington Ice Cream Sandwich\n",
        "product_name = {'Carrington Ice Cream Sandwich'}\n",
        "recommentations=recommendations_using_Fpgrowth(product_name)\n",
        "print(*recommentations[0:15], sep = \"\\n\")"
      ]
    },
    {
      "cell_type": "markdown",
      "metadata": {
        "id": "BhF4nH01dySR"
      },
      "source": [
        "**Apriori vs fpgrowth Algorithm: Performance measure**"
      ]
    },
    {
      "cell_type": "code",
      "execution_count": null,
      "metadata": {
        "id": "P_XJiy1QdySR"
      },
      "outputs": [],
      "source": [
        "## Calculating Run Time of Apriori Algorithm\n",
        "import time\n",
        "l=[0.01,0.02,0.03,0.04,0.05]\n",
        "t=[]\n",
        "for i in l:\n",
        "    t1=time.time()\n",
        "    apriori(dummy,min_support=i,use_colnames=True)\n",
        "    t2=time.time()\n",
        "    t.append((t2-t1)*1000)"
      ]
    },
    {
      "cell_type": "code",
      "execution_count": null,
      "metadata": {
        "id": "aaL02BhIdySS"
      },
      "outputs": [],
      "source": [
        "## Calculating Run Time of Fpgrowth Algorithm\n",
        "l=[0.01,0.02,0.03,0.04,0.05]\n",
        "f=[]\n",
        "for i in l:\n",
        "    t1=time.time()\n",
        "    fpgrowth(dummy,min_support=i,use_colnames=True)\n",
        "    t2=time.time()\n",
        "    f.append((t2-t1)*1000)"
      ]
    },
    {
      "cell_type": "markdown",
      "metadata": {
        "id": "5v2Vs1v9dySS"
      },
      "source": [
        "**Graph of Run Time between Apriori and Fpgrowth Algorithm**"
      ]
    },
    {
      "cell_type": "code",
      "execution_count": null,
      "metadata": {
        "id": "CU-BXLm1dySS"
      },
      "outputs": [],
      "source": [
        "sns.lineplot(x=l,y=f,label=\"fpgrowth\")\n",
        "sns.lineplot(x=l,y=t,label=\"apriori\")\n",
        "plt.xlabel(\"Min_support Threshold\")\n",
        "plt.ylabel(\"Run Time in ms\")"
      ]
    },
    {
      "cell_type": "markdown",
      "source": [
        "**Thank You**"
      ],
      "metadata": {
        "id": "uz6Kc9qrEokU"
      }
    }
  ],
  "metadata": {
    "kernelspec": {
      "display_name": "Python 3",
      "name": "python3"
    },
    "language_info": {
      "codemirror_mode": {
        "name": "ipython",
        "version": 3
      },
      "file_extension": ".py",
      "mimetype": "text/x-python",
      "name": "python",
      "nbconvert_exporter": "python",
      "pygments_lexer": "ipython3",
      "version": "3.7.6"
    },
    "colab": {
      "provenance": [],
      "gpuType": "T4",
      "include_colab_link": true
    },
    "accelerator": "GPU"
  },
  "nbformat": 4,
  "nbformat_minor": 0
}