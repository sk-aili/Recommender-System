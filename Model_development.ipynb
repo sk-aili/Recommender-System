{
  "cells": [
    {
      "cell_type": "markdown",
      "metadata": {
        "id": "view-in-github",
        "colab_type": "text"
      },
      "source": [
        "<a href=\"https://colab.research.google.com/github/sk-aili/market-basket-analysis/blob/main/Model_development.ipynb\" target=\"_parent\"><img src=\"https://colab.research.google.com/assets/colab-badge.svg\" alt=\"Open In Colab\"/></a>"
      ]
    },
    {
      "cell_type": "markdown",
      "metadata": {
        "id": "4n5HG5uodyRs"
      },
      "source": [
        "# Recommender System - Model Development\n"
      ]
    },
    {
      "cell_type": "markdown",
      "metadata": {
        "id": "KFxkNPA4dyRy"
      },
      "source": [
        "**Importing Libraries**"
      ]
    },
    {
      "cell_type": "code",
      "source": [
        "import pandas as pd\n",
        "import matplotlib.pyplot as plt\n",
        "import seaborn as sns\n",
        "import matplotlib as mpl\n",
        "from mlxtend.frequent_patterns import apriori\n",
        "from mlxtend.frequent_patterns import association_rules\n",
        "from sklearn.preprocessing import LabelEncoder\n",
        "from mlxtend.frequent_patterns import fpgrowth\n",
        "import warnings\n",
        "warnings.filterwarnings('ignore')\n",
        "warnings.filterwarnings(action='ignore', category=DeprecationWarning)"
      ],
      "metadata": {
        "id": "NBpIt-wjDdU5"
      },
      "execution_count": 34,
      "outputs": []
    },
    {
      "cell_type": "code",
      "execution_count": 35,
      "metadata": {
        "id": "cwRPEpQsdySH"
      },
      "outputs": [],
      "source": [
        "df = pd.read_csv(\"cleandf.csv\")"
      ]
    },
    {
      "cell_type": "code",
      "source": [
        "df = df.iloc[:, 1:]\n",
        "df.info()"
      ],
      "metadata": {
        "colab": {
          "base_uri": "https://localhost:8080/"
        },
        "id": "jJ0W4xk7DgZS",
        "outputId": "14859c99-45ad-4855-ac50-fddb4a50fa5b"
      },
      "execution_count": 36,
      "outputs": [
        {
          "output_type": "stream",
          "name": "stdout",
          "text": [
            "<class 'pandas.core.frame.DataFrame'>\n",
            "RangeIndex: 269720 entries, 0 to 269719\n",
            "Data columns (total 77 columns):\n",
            " #   Column                Non-Null Count   Dtype  \n",
            "---  ------                --------------   -----  \n",
            " 0   product_id            269720 non-null  int64  \n",
            " 1   time_id               269720 non-null  int64  \n",
            " 2   customer_id           269720 non-null  int64  \n",
            " 3   store_id              269720 non-null  int64  \n",
            " 4   store_sales           269720 non-null  float64\n",
            " 5   store_cost            269720 non-null  float64\n",
            " 6   unit_sales            269720 non-null  int64  \n",
            " 7   city                  269720 non-null  object \n",
            " 8   state_province        269720 non-null  object \n",
            " 9   country               269720 non-null  object \n",
            " 10  customer_region_id    269720 non-null  int64  \n",
            " 11  yearly_income         269720 non-null  object \n",
            " 12  gender                269720 non-null  object \n",
            " 13  total_children        269720 non-null  int64  \n",
            " 14  num_children_at_home  269720 non-null  int64  \n",
            " 15  education             269720 non-null  object \n",
            " 16  date_accnt_opened     269720 non-null  object \n",
            " 17  member_card           269720 non-null  object \n",
            " 18  occupation            269720 non-null  object \n",
            " 19  houseowner            269720 non-null  object \n",
            " 20  num_cars_owned        269720 non-null  int64  \n",
            " 21  product_class_id      269720 non-null  int64  \n",
            " 22  brand_name            269720 non-null  object \n",
            " 23  product_name          269720 non-null  object \n",
            " 24  SKU                   269720 non-null  int64  \n",
            " 25  SRP                   269720 non-null  float64\n",
            " 26  gross_weight          269720 non-null  float64\n",
            " 27  net_weight            269720 non-null  float64\n",
            " 28  recyclable_package    269720 non-null  int64  \n",
            " 29  low_fat               269720 non-null  int64  \n",
            " 30  units_per_case        269720 non-null  int64  \n",
            " 31  cases_per_pallet      269720 non-null  int64  \n",
            " 32  shelf_width           269720 non-null  float64\n",
            " 33  shelf_height          269720 non-null  float64\n",
            " 34  shelf_depth           269720 non-null  float64\n",
            " 35  subcategory           269720 non-null  object \n",
            " 36  category              269720 non-null  object \n",
            " 37  department            269720 non-null  object \n",
            " 38  family                269720 non-null  object \n",
            " 39  store_type            269720 non-null  object \n",
            " 40  region_id             269720 non-null  int64  \n",
            " 41  store_name            269720 non-null  object \n",
            " 42  store_number          269720 non-null  int64  \n",
            " 43  store_street_address  269720 non-null  object \n",
            " 44  store_city            269720 non-null  object \n",
            " 45  store_state           269720 non-null  object \n",
            " 46  store_postal_code     269720 non-null  int64  \n",
            " 47  store_country         269720 non-null  object \n",
            " 48  store_manager         269720 non-null  object \n",
            " 49  store_phone           269720 non-null  object \n",
            " 50  store_fax             269720 non-null  object \n",
            " 51  first_opened_date     269720 non-null  object \n",
            " 52  last_remodel_date     269720 non-null  object \n",
            " 53  store_sqft            269720 non-null  int64  \n",
            " 54  grocery_sqft          269720 non-null  int64  \n",
            " 55  frozen_sqft           269720 non-null  int64  \n",
            " 56  meat_sqft             269720 non-null  int64  \n",
            " 57  coffee_bar            269720 non-null  int64  \n",
            " 58  video_store           269720 non-null  int64  \n",
            " 59  salad_bar             269720 non-null  int64  \n",
            " 60  prepared_food         269720 non-null  int64  \n",
            " 61  florist               269720 non-null  int64  \n",
            " 62  sales_city            269720 non-null  object \n",
            " 63  sales_state_province  269720 non-null  object \n",
            " 64  sales_district        269720 non-null  object \n",
            " 65  sales_region          269720 non-null  object \n",
            " 66  sales_country         269720 non-null  object \n",
            " 67  sales_district_id     269720 non-null  int64  \n",
            " 68  the_date              269720 non-null  object \n",
            " 69  the_day               269720 non-null  object \n",
            " 70  the_year              269720 non-null  int64  \n",
            " 71  the_month             269720 non-null  int64  \n",
            " 72  day_of_month          269720 non-null  int64  \n",
            " 73  day_since_epoch       269720 non-null  int64  \n",
            " 74  products              269720 non-null  object \n",
            " 75  departments           269720 non-null  object \n",
            " 76  transaction_id        269720 non-null  int64  \n",
            "dtypes: float64(8), int64(33), object(36)\n",
            "memory usage: 158.5+ MB\n"
          ]
        }
      ]
    },
    {
      "cell_type": "code",
      "execution_count": 37,
      "metadata": {
        "id": "F3fUPjUSdySI",
        "colab": {
          "base_uri": "https://localhost:8080/",
          "height": 564
        },
        "outputId": "1efcaa5a-2934-41c8-eede-f0345573868b"
      },
      "outputs": [
        {
          "output_type": "display_data",
          "data": {
            "text/plain": [
              "<Figure size 800x600 with 1 Axes>"
            ],
            "image/png": "[encoded data removed]"
          },
          "metadata": {}
        }
      ],
      "source": [
        "data_user_orders_num = df.groupby('customer_id')['unit_sales'].count()\n",
        "source_data = {}\n",
        "for i in range(10):\n",
        "    source_data[str(10*i)+'-'+str(10*(i+1))]=len([x for x in list(data_user_orders_num) if x>=i*10 and x<(i+1)*10])\n",
        "\n",
        "font_size=10\n",
        "fig_size=(8,6)\n",
        "mpl.rcParams['font.size']=font_size\n",
        "mpl.rcParams['figure.figsize']=fig_size\n",
        "bar_width=0.3\n",
        "x_axis = tuple(source_data.keys())\n",
        "y_axis = tuple(source_data.values())\n",
        "#assign color\n",
        "plt.bar(x_axis, y_axis, color='orange')\n",
        "# descrpitions for x-axis, y-axis\n",
        "plt.xlabel('Unit sales')\n",
        "plt.ylabel(\"No. of customers\")\n",
        "plt.title(\"Bar Plot Between Customers and their Products per Order\")\n",
        "plt.show()"
      ]
    },
    {
      "cell_type": "code",
      "execution_count": 38,
      "metadata": {
        "id": "OYaK1KVRdySJ",
        "colab": {
          "base_uri": "https://localhost:8080/",
          "height": 235
        },
        "outputId": "1eb3fed2-317e-4d71-847d-62a3e503e806"
      },
      "outputs": [
        {
          "output_type": "execute_result",
          "data": {
            "text/plain": [
              "             sum  count       avg\n",
              "customer_id                      \n",
              "3            186     30  6.200000\n",
              "5              1      1  1.000000\n",
              "6             72     16  4.500000\n",
              "8            208     42  4.952381\n",
              "9             85     13  6.538462"
            ],
            "text/html": [
              "\n",
              "  <div id=\"df-88b0d5ae-1ff1-4eef-8178-856651bf7872\" class=\"colab-df-container\">\n",
              "    <div>\n",
              "<style scoped>\n",
              "    .dataframe tbody tr th:only-of-type {\n",
              "        vertical-align: middle;\n",
              "    }\n",
              "\n",
              "    .dataframe tbody tr th {\n",
              "        vertical-align: top;\n",
              "    }\n",
              "\n",
              "    .dataframe thead th {\n",
              "        text-align: right;\n",
              "    }\n",
              "</style>\n",
              "<table border=\"1\" class=\"dataframe\">\n",
              "  <thead>\n",
              "    <tr style=\"text-align: right;\">\n",
              "      <th></th>\n",
              "      <th>sum</th>\n",
              "      <th>count</th>\n",
              "      <th>avg</th>\n",
              "    </tr>\n",
              "    <tr>\n",
              "      <th>customer_id</th>\n",
              "      <th></th>\n",
              "      <th></th>\n",
              "      <th></th>\n",
              "    </tr>\n",
              "  </thead>\n",
              "  <tbody>\n",
              "    <tr>\n",
              "      <th>3</th>\n",
              "      <td>186</td>\n",
              "      <td>30</td>\n",
              "      <td>6.200000</td>\n",
              "    </tr>\n",
              "    <tr>\n",
              "      <th>5</th>\n",
              "      <td>1</td>\n",
              "      <td>1</td>\n",
              "      <td>1.000000</td>\n",
              "    </tr>\n",
              "    <tr>\n",
              "      <th>6</th>\n",
              "      <td>72</td>\n",
              "      <td>16</td>\n",
              "      <td>4.500000</td>\n",
              "    </tr>\n",
              "    <tr>\n",
              "      <th>8</th>\n",
              "      <td>208</td>\n",
              "      <td>42</td>\n",
              "      <td>4.952381</td>\n",
              "    </tr>\n",
              "    <tr>\n",
              "      <th>9</th>\n",
              "      <td>85</td>\n",
              "      <td>13</td>\n",
              "      <td>6.538462</td>\n",
              "    </tr>\n",
              "  </tbody>\n",
              "</table>\n",
              "</div>\n",
              "    <div class=\"colab-df-buttons\">\n",
              "\n",
              "  <div class=\"colab-df-container\">\n",
              "    <button class=\"colab-df-convert\" onclick=\"convertToInteractive('df-88b0d5ae-1ff1-4eef-8178-856651bf7872')\"\n",
              "            title=\"Convert this dataframe to an interactive table.\"\n",
              "            style=\"display:none;\">\n",
              "\n",
              "  <svg xmlns=\"http://www.w3.org/2000/svg\" height=\"24px\" viewBox=\"0 -960 960 960\">\n",
              "    <path d=\"M120-120v-720h720v720H120Zm60-500h600v-160H180v160Zm220 220h160v-160H400v160Zm0 220h160v-160H400v160ZM180-400h160v-160H180v160Zm440 0h160v-160H620v160ZM180-180h160v-160H180v160Zm440 0h160v-160H620v160Z\"/>\n",
              "  </svg>\n",
              "    </button>\n",
              "\n",
              "  <style>\n",
              "    .colab-df-container {\n",
              "      display:flex;\n",
              "      gap: 12px;\n",
              "    }\n",
              "\n",
              "    .colab-df-convert {\n",
              "      background-color: #E8F0FE;\n",
              "      border: none;\n",
              "      border-radius: 50%;\n",
              "      cursor: pointer;\n",
              "      display: none;\n",
              "      fill: #1967D2;\n",
              "      height: 32px;\n",
              "      padding: 0 0 0 0;\n",
              "      width: 32px;\n",
              "    }\n",
              "\n",
              "    .colab-df-convert:hover {\n",
              "      background-color: #E2EBFA;\n",
              "      box-shadow: 0px 1px 2px rgba(60, 64, 67, 0.3), 0px 1px 3px 1px rgba(60, 64, 67, 0.15);\n",
              "      fill: #174EA6;\n",
              "    }\n",
              "\n",
              "    .colab-df-buttons div {\n",
              "      margin-bottom: 4px;\n",
              "    }\n",
              "\n",
              "    [theme=dark] .colab-df-convert {\n",
              "      background-color: #3B4455;\n",
              "      fill: #D2E3FC;\n",
              "    }\n",
              "\n",
              "    [theme=dark] .colab-df-convert:hover {\n",
              "      background-color: #434B5C;\n",
              "      box-shadow: 0px 1px 3px 1px rgba(0, 0, 0, 0.15);\n",
              "      filter: drop-shadow(0px 1px 2px rgba(0, 0, 0, 0.3));\n",
              "      fill: #FFFFFF;\n",
              "    }\n",
              "  </style>\n",
              "\n",
              "    <script>\n",
              "      const buttonEl =\n",
              "        document.querySelector('#df-88b0d5ae-1ff1-4eef-8178-856651bf7872 button.colab-df-convert');\n",
              "      buttonEl.style.display =\n",
              "        google.colab.kernel.accessAllowed ? 'block' : 'none';\n",
              "\n",
              "      async function convertToInteractive(key) {\n",
              "        const element = document.querySelector('#df-88b0d5ae-1ff1-4eef-8178-856651bf7872');\n",
              "        const dataTable =\n",
              "          await google.colab.kernel.invokeFunction('convertToInteractive',\n",
              "                                                    [key], {});\n",
              "        if (!dataTable) return;\n",
              "\n",
              "        const docLinkHtml = 'Like what you see? Visit the ' +\n",
              "          '<a target=\"_blank\" href=https://colab.research.google.com/notebooks/data_table.ipynb>data table notebook</a>'\n",
              "          + ' to learn more about interactive tables.';\n",
              "        element.innerHTML = '';\n",
              "        dataTable['output_type'] = 'display_data';\n",
              "        await google.colab.output.renderOutput(dataTable, element);\n",
              "        const docLink = document.createElement('div');\n",
              "        docLink.innerHTML = docLinkHtml;\n",
              "        element.appendChild(docLink);\n",
              "      }\n",
              "    </script>\n",
              "  </div>\n",
              "\n",
              "\n",
              "<div id=\"df-01b942ac-9924-47bc-91a4-9d81b063a636\">\n",
              "  <button class=\"colab-df-quickchart\" onclick=\"quickchart('df-01b942ac-9924-47bc-91a4-9d81b063a636')\"\n",
              "            title=\"Suggest charts\"\n",
              "            style=\"display:none;\">\n",
              "\n",
              "<svg xmlns=\"http://www.w3.org/2000/svg\" height=\"24px\"viewBox=\"0 0 24 24\"\n",
              "     width=\"24px\">\n",
              "    <g>\n",
              "        <path d=\"M19 3H5c-1.1 0-2 .9-2 2v14c0 1.1.9 2 2 2h14c1.1 0 2-.9 2-2V5c0-1.1-.9-2-2-2zM9 17H7v-7h2v7zm4 0h-2V7h2v10zm4 0h-2v-4h2v4z\"/>\n",
              "    </g>\n",
              "</svg>\n",
              "  </button>\n",
              "\n",
              "<style>\n",
              "  .colab-df-quickchart {\n",
              "      --bg-color: #E8F0FE;\n",
              "      --fill-color: #1967D2;\n",
              "      --hover-bg-color: #E2EBFA;\n",
              "      --hover-fill-color: #174EA6;\n",
              "      --disabled-fill-color: #AAA;\n",
              "      --disabled-bg-color: #DDD;\n",
              "  }\n",
              "\n",
              "  [theme=dark] .colab-df-quickchart {\n",
              "      --bg-color: #3B4455;\n",
              "      --fill-color: #D2E3FC;\n",
              "      --hover-bg-color: #434B5C;\n",
              "      --hover-fill-color: #FFFFFF;\n",
              "      --disabled-bg-color: #3B4455;\n",
              "      --disabled-fill-color: #666;\n",
              "  }\n",
              "\n",
              "  .colab-df-quickchart {\n",
              "    background-color: var(--bg-color);\n",
              "    border: none;\n",
              "    border-radius: 50%;\n",
              "    cursor: pointer;\n",
              "    display: none;\n",
              "    fill: var(--fill-color);\n",
              "    height: 32px;\n",
              "    padding: 0;\n",
              "    width: 32px;\n",
              "  }\n",
              "\n",
              "  .colab-df-quickchart:hover {\n",
              "    background-color: var(--hover-bg-color);\n",
              "    box-shadow: 0 1px 2px rgba(60, 64, 67, 0.3), 0 1px 3px 1px rgba(60, 64, 67, 0.15);\n",
              "    fill: var(--button-hover-fill-color);\n",
              "  }\n",
              "\n",
              "  .colab-df-quickchart-complete:disabled,\n",
              "  .colab-df-quickchart-complete:disabled:hover {\n",
              "    background-color: var(--disabled-bg-color);\n",
              "    fill: var(--disabled-fill-color);\n",
              "    box-shadow: none;\n",
              "  }\n",
              "\n",
              "  .colab-df-spinner {\n",
              "    border: 2px solid var(--fill-color);\n",
              "    border-color: transparent;\n",
              "    border-bottom-color: var(--fill-color);\n",
              "    animation:\n",
              "      spin 1s steps(1) infinite;\n",
              "  }\n",
              "\n",
              "  @keyframes spin {\n",
              "    0% {\n",
              "      border-color: transparent;\n",
              "      border-bottom-color: var(--fill-color);\n",
              "      border-left-color: var(--fill-color);\n",
              "    }\n",
              "    20% {\n",
              "      border-color: transparent;\n",
              "      border-left-color: var(--fill-color);\n",
              "      border-top-color: var(--fill-color);\n",
              "    }\n",
              "    30% {\n",
              "      border-color: transparent;\n",
              "      border-left-color: var(--fill-color);\n",
              "      border-top-color: var(--fill-color);\n",
              "      border-right-color: var(--fill-color);\n",
              "    }\n",
              "    40% {\n",
              "      border-color: transparent;\n",
              "      border-right-color: var(--fill-color);\n",
              "      border-top-color: var(--fill-color);\n",
              "    }\n",
              "    60% {\n",
              "      border-color: transparent;\n",
              "      border-right-color: var(--fill-color);\n",
              "    }\n",
              "    80% {\n",
              "      border-color: transparent;\n",
              "      border-right-color: var(--fill-color);\n",
              "      border-bottom-color: var(--fill-color);\n",
              "    }\n",
              "    90% {\n",
              "      border-color: transparent;\n",
              "      border-bottom-color: var(--fill-color);\n",
              "    }\n",
              "  }\n",
              "</style>\n",
              "\n",
              "  <script>\n",
              "    async function quickchart(key) {\n",
              "      const quickchartButtonEl =\n",
              "        document.querySelector('#' + key + ' button');\n",
              "      quickchartButtonEl.disabled = true;  // To prevent multiple clicks.\n",
              "      quickchartButtonEl.classList.add('colab-df-spinner');\n",
              "      try {\n",
              "        const charts = await google.colab.kernel.invokeFunction(\n",
              "            'suggestCharts', [key], {});\n",
              "      } catch (error) {\n",
              "        console.error('Error during call to suggestCharts:', error);\n",
              "      }\n",
              "      quickchartButtonEl.classList.remove('colab-df-spinner');\n",
              "      quickchartButtonEl.classList.add('colab-df-quickchart-complete');\n",
              "    }\n",
              "    (() => {\n",
              "      let quickchartButtonEl =\n",
              "        document.querySelector('#df-01b942ac-9924-47bc-91a4-9d81b063a636 button');\n",
              "      quickchartButtonEl.style.display =\n",
              "        google.colab.kernel.accessAllowed ? 'block' : 'none';\n",
              "    })();\n",
              "  </script>\n",
              "</div>\n",
              "\n",
              "    </div>\n",
              "  </div>\n"
            ]
          },
          "metadata": {},
          "execution_count": 38
        }
      ],
      "source": [
        "## Transaction ID - create transaction id which denotes a basket\n",
        "df['transaction_id'] = df['customer_id'].astype(str) + df['time_id'].astype(str)\n",
        "cols = [76,2,0,23]\n",
        "order_products=df[df.columns[cols]]\n",
        "## Average products bought by customers per order\n",
        "data_user_products_num1=order_products.groupby('transaction_id')['product_id'].count()\n",
        "data_user_products_num1=pd.DataFrame(data_user_products_num1)\n",
        "data_user_products_num1['transaction_id']=list(data_user_products_num1.index)\n",
        "data_user_products_num1.columns=['product_num','orderid']\n",
        "data_user_products_num2=pd.merge(data_user_products_num1,df[['transaction_id','customer_id']],on='transaction_id',how='left')\n",
        "data_user_products_num3=data_user_products_num2.groupby('customer_id')['product_num'].agg(['sum','count'])\n",
        "data_user_products_num3['avg']=data_user_products_num3['sum']/data_user_products_num3['count']\n",
        "data_user_products_num3.head()"
      ]
    },
    {
      "cell_type": "code",
      "execution_count": 39,
      "metadata": {
        "id": "AH_I2ztPdySJ"
      },
      "outputs": [],
      "source": [
        "# Featured Products\n",
        "cols = [1,36,38,24]\n",
        "departments=df[df.columns[cols]]\n",
        "temp=['department']\n",
        "produce=df.loc[df['department'] == 'Produce']\n",
        "top_produce=produce['product_name'].value_counts().iloc[:10]\n",
        "snacks=df.loc[df['department']=='Snack Foods']\n",
        "top_snacks=snacks['product_name'].value_counts().iloc[:10]\n",
        "household=df.loc[df['department']=='Household']\n",
        "top_household=household['product_name'].value_counts().iloc[:10]\n",
        "frozen=df.loc[df['department']=='Frozen Foods']\n",
        "top_frozen=frozen['product_name'].value_counts().iloc[:10]\n",
        "baking=df.loc[df['department']=='Baking Goods']\n",
        "top_baking=baking['product_name'].value_counts().iloc[:10]\n",
        "canned=df.loc[df['department']=='Canned Foods']\n",
        "top_canned=canned['product_name'].value_counts().iloc[:10]\n",
        "dairy=(df.loc[df['department'] == 'Dairy'])\n",
        "top_dairy=dairy['product_name'].value_counts().iloc[:10]\n",
        "dairy=(df.loc[df['department'] == 'Health and Hygiene'])\n",
        "top_dairy=dairy['product_name'].value_counts().iloc[:10]\n",
        "dairy=(df.loc[df['department'] == 'Beverages'])\n",
        "top_dairy=dairy['product_name'].value_counts().iloc[:10]\n",
        "dairy=(df.loc[df['department'] == 'Deli'])\n",
        "top_dairy=dairy['product_name'].value_counts().iloc[:10]\n",
        "dairy=(df.loc[df['department'] == 'Alcoholic Beverages'])\n",
        "top_dairy=dairy['product_name'].value_counts().iloc[:10]\n",
        "dairy=(df.loc[df['department'] == 'Starchy Foods'])\n",
        "top_dairy=dairy['product_name'].value_counts().iloc[:10]\n",
        "dairy=(df.loc[df['department'] == 'Eggs'])\n",
        "top_dairy=dairy['product_name'].value_counts().iloc[:10]"
      ]
    },
    {
      "cell_type": "code",
      "execution_count": 40,
      "metadata": {
        "id": "HfM9ggf1dySM"
      },
      "outputs": [],
      "source": [
        "## Top 100 most frequently purchased products\n",
        "cols = [76,2,0,23,6,1]\n",
        "product_name=df[df.columns[cols]]\n",
        "productCountDf = product_name.groupby(\"product_id\",as_index = False)['transaction_id'].count()\n",
        "productCountDf = productCountDf.sort_values(\"transaction_id\",ascending = False)\n",
        "topProdFrame = productCountDf.iloc[0:100,:]\n",
        "productId= topProdFrame.loc[:,[\"product_id\"]]"
      ]
    },
    {
      "cell_type": "code",
      "execution_count": 41,
      "metadata": {
        "id": "y5ZQQWjSdySN"
      },
      "outputs": [],
      "source": [
        "## Orders containting the the most frequently purchased products\n",
        "MarketBasketdf = product_name[0:0]\n",
        "for i in range(0,99):\n",
        "    pId = productId.iloc[i]['product_id']\n",
        "    stDf = product_name[product_name.product_id == pId ]\n",
        "    MarketBasketdf = MarketBasketdf.append(stDf,ignore_index = False)\n",
        "\n",
        "basket = MarketBasketdf.groupby(['transaction_id','product_name'])['unit_sales'].sum().unstack().reset_index().fillna(0).set_index('transaction_id')"
      ]
    },
    {
      "cell_type": "markdown",
      "metadata": {
        "id": "bj-GQvbudySO"
      },
      "source": [
        "**One Hot Encoding**"
      ]
    },
    {
      "cell_type": "code",
      "execution_count": 42,
      "metadata": {
        "id": "tt3lH7lPdySO"
      },
      "outputs": [],
      "source": [
        "def encode_units(x):\n",
        "    if x <= 0:\n",
        "        return 0\n",
        "    if x >= 1:\n",
        "        return 1\n"
      ]
    },
    {
      "cell_type": "code",
      "execution_count": 43,
      "metadata": {
        "id": "JnnvlsskdySO"
      },
      "outputs": [],
      "source": [
        "basket_sets = basket.applymap(encode_units)\n",
        "dummy=basket_sets.head(10000)"
      ]
    },
    {
      "cell_type": "markdown",
      "metadata": {
        "id": "RuGPBjIKdySP"
      },
      "source": [
        "**Apriori Algorithm & its Recommendations**"
      ]
    },
    {
      "cell_type": "code",
      "execution_count": 44,
      "metadata": {
        "id": "jzu1RNTedySP"
      },
      "outputs": [],
      "source": [
        "## Frequent items with support 0.01% using Apriori Algorithm\n",
        "frequent_itemsets = apriori(dummy, min_support=0.0001, use_colnames=True)"
      ]
    },
    {
      "cell_type": "code",
      "execution_count": 45,
      "metadata": {
        "id": "-_BOKwyzdySP",
        "colab": {
          "base_uri": "https://localhost:8080/",
          "height": 742
        },
        "outputId": "64c2ec83-f97b-4526-fa62-208e38059662"
      },
      "outputs": [
        {
          "output_type": "execute_result",
          "data": {
            "text/plain": [
              "                                            antecedents  \\\n",
              "949            (ADJ Rosy Sunglasses, Moms Potato Salad)   \n",
              "950   (Better Chicken Noodle Soup, ADJ Rosy Sunglasses)   \n",
              "955   (Better Chicken Noodle Soup, ADJ Rosy Sunglasses)   \n",
              "956          (Special Wheat Puffs, ADJ Rosy Sunglasses)   \n",
              "960       (Better Fancy Canned Clams, Ebony Mixed Nuts)   \n",
              "...                                                 ...   \n",
              "2636           (Great English Muffins, Super Grape Jam)   \n",
              "2637  (Great English Muffins, Ebony Red Delcious App...   \n",
              "2638                (Red Wing Tissues, Super Grape Jam)   \n",
              "2639      (Red Wing Tissues, Ebony Red Delcious Apples)   \n",
              "2640       (Super Grape Jam, Ebony Red Delcious Apples)   \n",
              "\n",
              "                                            consequents  antecedent support  \\\n",
              "949                        (Better Chicken Noodle Soup)              0.0001   \n",
              "950                                 (Moms Potato Salad)              0.0001   \n",
              "955                               (Special Wheat Puffs)              0.0001   \n",
              "956                        (Better Chicken Noodle Soup)              0.0001   \n",
              "960                               (ADJ Rosy Sunglasses)              0.0001   \n",
              "...                                                 ...                 ...   \n",
              "2636  (Red Wing Tissues, Ebony Squash, Ebony Red Del...              0.0004   \n",
              "2637  (Red Wing Tissues, Ebony Squash, Super Grape Jam)              0.0002   \n",
              "2638  (Ebony Red Delcious Apples, Ebony Squash, Grea...              0.0001   \n",
              "2639  (Ebony Squash, Super Grape Jam, Great English ...              0.0001   \n",
              "2640  (Red Wing Tissues, Ebony Squash, Great English...              0.0006   \n",
              "\n",
              "      consequent support  support  confidence          lift  leverage  \\\n",
              "949               0.0120   0.0001    1.000000     83.333333  0.000099   \n",
              "950               0.0120   0.0001    1.000000     83.333333  0.000099   \n",
              "955               0.0124   0.0001    1.000000     80.645161  0.000099   \n",
              "956               0.0120   0.0001    1.000000     83.333333  0.000099   \n",
              "960               0.0112   0.0001    1.000000     89.285714  0.000099   \n",
              "...                  ...      ...         ...           ...       ...   \n",
              "2636              0.0001   0.0001    0.250000   2500.000000  0.000100   \n",
              "2637              0.0001   0.0001    0.500000   5000.000000  0.000100   \n",
              "2638              0.0001   0.0001    1.000000  10000.000000  0.000100   \n",
              "2639              0.0001   0.0001    1.000000  10000.000000  0.000100   \n",
              "2640              0.0001   0.0001    0.166667   1666.666667  0.000100   \n",
              "\n",
              "      conviction  zhangs_metric  \n",
              "949          inf       0.988099  \n",
              "950          inf       0.988099  \n",
              "955          inf       0.987699  \n",
              "956          inf       0.988099  \n",
              "960          inf       0.988899  \n",
              "...          ...            ...  \n",
              "2636     1.33320       1.000000  \n",
              "2637     1.99980       1.000000  \n",
              "2638         inf       1.000000  \n",
              "2639         inf       1.000000  \n",
              "2640     1.19988       1.000000  \n",
              "\n",
              "[599 rows x 10 columns]"
            ],
            "text/html": [
              "\n",
              "  <div id=\"df-a1558ec9-1fd6-4156-8139-f0335f026d24\" class=\"colab-df-container\">\n",
              "    <div>\n",
              "<style scoped>\n",
              "    .dataframe tbody tr th:only-of-type {\n",
              "        vertical-align: middle;\n",
              "    }\n",
              "\n",
              "    .dataframe tbody tr th {\n",
              "        vertical-align: top;\n",
              "    }\n",
              "\n",
              "    .dataframe thead th {\n",
              "        text-align: right;\n",
              "    }\n",
              "</style>\n",
              "<table border=\"1\" class=\"dataframe\">\n",
              "  <thead>\n",
              "    <tr style=\"text-align: right;\">\n",
              "      <th></th>\n",
              "      <th>antecedents</th>\n",
              "      <th>consequents</th>\n",
              "      <th>antecedent support</th>\n",
              "      <th>consequent support</th>\n",
              "      <th>support</th>\n",
              "      <th>confidence</th>\n",
              "      <th>lift</th>\n",
              "      <th>leverage</th>\n",
              "      <th>conviction</th>\n",
              "      <th>zhangs_metric</th>\n",
              "    </tr>\n",
              "  </thead>\n",
              "  <tbody>\n",
              "    <tr>\n",
              "      <th>949</th>\n",
              "      <td>(ADJ Rosy Sunglasses, Moms Potato Salad)</td>\n",
              "      <td>(Better Chicken Noodle Soup)</td>\n",
              "      <td>0.0001</td>\n",
              "      <td>0.0120</td>\n",
              "      <td>0.0001</td>\n",
              "      <td>1.000000</td>\n",
              "      <td>83.333333</td>\n",
              "      <td>0.000099</td>\n",
              "      <td>inf</td>\n",
              "      <td>0.988099</td>\n",
              "    </tr>\n",
              "    <tr>\n",
              "      <th>950</th>\n",
              "      <td>(Better Chicken Noodle Soup, ADJ Rosy Sunglasses)</td>\n",
              "      <td>(Moms Potato Salad)</td>\n",
              "      <td>0.0001</td>\n",
              "      <td>0.0120</td>\n",
              "      <td>0.0001</td>\n",
              "      <td>1.000000</td>\n",
              "      <td>83.333333</td>\n",
              "      <td>0.000099</td>\n",
              "      <td>inf</td>\n",
              "      <td>0.988099</td>\n",
              "    </tr>\n",
              "    <tr>\n",
              "      <th>955</th>\n",
              "      <td>(Better Chicken Noodle Soup, ADJ Rosy Sunglasses)</td>\n",
              "      <td>(Special Wheat Puffs)</td>\n",
              "      <td>0.0001</td>\n",
              "      <td>0.0124</td>\n",
              "      <td>0.0001</td>\n",
              "      <td>1.000000</td>\n",
              "      <td>80.645161</td>\n",
              "      <td>0.000099</td>\n",
              "      <td>inf</td>\n",
              "      <td>0.987699</td>\n",
              "    </tr>\n",
              "    <tr>\n",
              "      <th>956</th>\n",
              "      <td>(Special Wheat Puffs, ADJ Rosy Sunglasses)</td>\n",
              "      <td>(Better Chicken Noodle Soup)</td>\n",
              "      <td>0.0001</td>\n",
              "      <td>0.0120</td>\n",
              "      <td>0.0001</td>\n",
              "      <td>1.000000</td>\n",
              "      <td>83.333333</td>\n",
              "      <td>0.000099</td>\n",
              "      <td>inf</td>\n",
              "      <td>0.988099</td>\n",
              "    </tr>\n",
              "    <tr>\n",
              "      <th>960</th>\n",
              "      <td>(Better Fancy Canned Clams, Ebony Mixed Nuts)</td>\n",
              "      <td>(ADJ Rosy Sunglasses)</td>\n",
              "      <td>0.0001</td>\n",
              "      <td>0.0112</td>\n",
              "      <td>0.0001</td>\n",
              "      <td>1.000000</td>\n",
              "      <td>89.285714</td>\n",
              "      <td>0.000099</td>\n",
              "      <td>inf</td>\n",
              "      <td>0.988899</td>\n",
              "    </tr>\n",
              "    <tr>\n",
              "      <th>...</th>\n",
              "      <td>...</td>\n",
              "      <td>...</td>\n",
              "      <td>...</td>\n",
              "      <td>...</td>\n",
              "      <td>...</td>\n",
              "      <td>...</td>\n",
              "      <td>...</td>\n",
              "      <td>...</td>\n",
              "      <td>...</td>\n",
              "      <td>...</td>\n",
              "    </tr>\n",
              "    <tr>\n",
              "      <th>2636</th>\n",
              "      <td>(Great English Muffins, Super Grape Jam)</td>\n",
              "      <td>(Red Wing Tissues, Ebony Squash, Ebony Red Del...</td>\n",
              "      <td>0.0004</td>\n",
              "      <td>0.0001</td>\n",
              "      <td>0.0001</td>\n",
              "      <td>0.250000</td>\n",
              "      <td>2500.000000</td>\n",
              "      <td>0.000100</td>\n",
              "      <td>1.33320</td>\n",
              "      <td>1.000000</td>\n",
              "    </tr>\n",
              "    <tr>\n",
              "      <th>2637</th>\n",
              "      <td>(Great English Muffins, Ebony Red Delcious App...</td>\n",
              "      <td>(Red Wing Tissues, Ebony Squash, Super Grape Jam)</td>\n",
              "      <td>0.0002</td>\n",
              "      <td>0.0001</td>\n",
              "      <td>0.0001</td>\n",
              "      <td>0.500000</td>\n",
              "      <td>5000.000000</td>\n",
              "      <td>0.000100</td>\n",
              "      <td>1.99980</td>\n",
              "      <td>1.000000</td>\n",
              "    </tr>\n",
              "    <tr>\n",
              "      <th>2638</th>\n",
              "      <td>(Red Wing Tissues, Super Grape Jam)</td>\n",
              "      <td>(Ebony Red Delcious Apples, Ebony Squash, Grea...</td>\n",
              "      <td>0.0001</td>\n",
              "      <td>0.0001</td>\n",
              "      <td>0.0001</td>\n",
              "      <td>1.000000</td>\n",
              "      <td>10000.000000</td>\n",
              "      <td>0.000100</td>\n",
              "      <td>inf</td>\n",
              "      <td>1.000000</td>\n",
              "    </tr>\n",
              "    <tr>\n",
              "      <th>2639</th>\n",
              "      <td>(Red Wing Tissues, Ebony Red Delcious Apples)</td>\n",
              "      <td>(Ebony Squash, Super Grape Jam, Great English ...</td>\n",
              "      <td>0.0001</td>\n",
              "      <td>0.0001</td>\n",
              "      <td>0.0001</td>\n",
              "      <td>1.000000</td>\n",
              "      <td>10000.000000</td>\n",
              "      <td>0.000100</td>\n",
              "      <td>inf</td>\n",
              "      <td>1.000000</td>\n",
              "    </tr>\n",
              "    <tr>\n",
              "      <th>2640</th>\n",
              "      <td>(Super Grape Jam, Ebony Red Delcious Apples)</td>\n",
              "      <td>(Red Wing Tissues, Ebony Squash, Great English...</td>\n",
              "      <td>0.0006</td>\n",
              "      <td>0.0001</td>\n",
              "      <td>0.0001</td>\n",
              "      <td>0.166667</td>\n",
              "      <td>1666.666667</td>\n",
              "      <td>0.000100</td>\n",
              "      <td>1.19988</td>\n",
              "      <td>1.000000</td>\n",
              "    </tr>\n",
              "  </tbody>\n",
              "</table>\n",
              "<p>599 rows × 10 columns</p>\n",
              "</div>\n",
              "    <div class=\"colab-df-buttons\">\n",
              "\n",
              "  <div class=\"colab-df-container\">\n",
              "    <button class=\"colab-df-convert\" onclick=\"convertToInteractive('df-a1558ec9-1fd6-4156-8139-f0335f026d24')\"\n",
              "            title=\"Convert this dataframe to an interactive table.\"\n",
              "            style=\"display:none;\">\n",
              "\n",
              "  <svg xmlns=\"http://www.w3.org/2000/svg\" height=\"24px\" viewBox=\"0 -960 960 960\">\n",
              "    <path d=\"M120-120v-720h720v720H120Zm60-500h600v-160H180v160Zm220 220h160v-160H400v160Zm0 220h160v-160H400v160ZM180-400h160v-160H180v160Zm440 0h160v-160H620v160ZM180-180h160v-160H180v160Zm440 0h160v-160H620v160Z\"/>\n",
              "  </svg>\n",
              "    </button>\n",
              "\n",
              "  <style>\n",
              "    .colab-df-container {\n",
              "      display:flex;\n",
              "      gap: 12px;\n",
              "    }\n",
              "\n",
              "    .colab-df-convert {\n",
              "      background-color: #E8F0FE;\n",
              "      border: none;\n",
              "      border-radius: 50%;\n",
              "      cursor: pointer;\n",
              "      display: none;\n",
              "      fill: #1967D2;\n",
              "      height: 32px;\n",
              "      padding: 0 0 0 0;\n",
              "      width: 32px;\n",
              "    }\n",
              "\n",
              "    .colab-df-convert:hover {\n",
              "      background-color: #E2EBFA;\n",
              "      box-shadow: 0px 1px 2px rgba(60, 64, 67, 0.3), 0px 1px 3px 1px rgba(60, 64, 67, 0.15);\n",
              "      fill: #174EA6;\n",
              "    }\n",
              "\n",
              "    .colab-df-buttons div {\n",
              "      margin-bottom: 4px;\n",
              "    }\n",
              "\n",
              "    [theme=dark] .colab-df-convert {\n",
              "      background-color: #3B4455;\n",
              "      fill: #D2E3FC;\n",
              "    }\n",
              "\n",
              "    [theme=dark] .colab-df-convert:hover {\n",
              "      background-color: #434B5C;\n",
              "      box-shadow: 0px 1px 3px 1px rgba(0, 0, 0, 0.15);\n",
              "      filter: drop-shadow(0px 1px 2px rgba(0, 0, 0, 0.3));\n",
              "      fill: #FFFFFF;\n",
              "    }\n",
              "  </style>\n",
              "\n",
              "    <script>\n",
              "      const buttonEl =\n",
              "        document.querySelector('#df-a1558ec9-1fd6-4156-8139-f0335f026d24 button.colab-df-convert');\n",
              "      buttonEl.style.display =\n",
              "        google.colab.kernel.accessAllowed ? 'block' : 'none';\n",
              "\n",
              "      async function convertToInteractive(key) {\n",
              "        const element = document.querySelector('#df-a1558ec9-1fd6-4156-8139-f0335f026d24');\n",
              "        const dataTable =\n",
              "          await google.colab.kernel.invokeFunction('convertToInteractive',\n",
              "                                                    [key], {});\n",
              "        if (!dataTable) return;\n",
              "\n",
              "        const docLinkHtml = 'Like what you see? Visit the ' +\n",
              "          '<a target=\"_blank\" href=https://colab.research.google.com/notebooks/data_table.ipynb>data table notebook</a>'\n",
              "          + ' to learn more about interactive tables.';\n",
              "        element.innerHTML = '';\n",
              "        dataTable['output_type'] = 'display_data';\n",
              "        await google.colab.output.renderOutput(dataTable, element);\n",
              "        const docLink = document.createElement('div');\n",
              "        docLink.innerHTML = docLinkHtml;\n",
              "        element.appendChild(docLink);\n",
              "      }\n",
              "    </script>\n",
              "  </div>\n",
              "\n",
              "\n",
              "<div id=\"df-85de3f88-d950-40df-b336-36fbff01b8e3\">\n",
              "  <button class=\"colab-df-quickchart\" onclick=\"quickchart('df-85de3f88-d950-40df-b336-36fbff01b8e3')\"\n",
              "            title=\"Suggest charts\"\n",
              "            style=\"display:none;\">\n",
              "\n",
              "<svg xmlns=\"http://www.w3.org/2000/svg\" height=\"24px\"viewBox=\"0 0 24 24\"\n",
              "     width=\"24px\">\n",
              "    <g>\n",
              "        <path d=\"M19 3H5c-1.1 0-2 .9-2 2v14c0 1.1.9 2 2 2h14c1.1 0 2-.9 2-2V5c0-1.1-.9-2-2-2zM9 17H7v-7h2v7zm4 0h-2V7h2v10zm4 0h-2v-4h2v4z\"/>\n",
              "    </g>\n",
              "</svg>\n",
              "  </button>\n",
              "\n",
              "<style>\n",
              "  .colab-df-quickchart {\n",
              "      --bg-color: #E8F0FE;\n",
              "      --fill-color: #1967D2;\n",
              "      --hover-bg-color: #E2EBFA;\n",
              "      --hover-fill-color: #174EA6;\n",
              "      --disabled-fill-color: #AAA;\n",
              "      --disabled-bg-color: #DDD;\n",
              "  }\n",
              "\n",
              "  [theme=dark] .colab-df-quickchart {\n",
              "      --bg-color: #3B4455;\n",
              "      --fill-color: #D2E3FC;\n",
              "      --hover-bg-color: #434B5C;\n",
              "      --hover-fill-color: #FFFFFF;\n",
              "      --disabled-bg-color: #3B4455;\n",
              "      --disabled-fill-color: #666;\n",
              "  }\n",
              "\n",
              "  .colab-df-quickchart {\n",
              "    background-color: var(--bg-color);\n",
              "    border: none;\n",
              "    border-radius: 50%;\n",
              "    cursor: pointer;\n",
              "    display: none;\n",
              "    fill: var(--fill-color);\n",
              "    height: 32px;\n",
              "    padding: 0;\n",
              "    width: 32px;\n",
              "  }\n",
              "\n",
              "  .colab-df-quickchart:hover {\n",
              "    background-color: var(--hover-bg-color);\n",
              "    box-shadow: 0 1px 2px rgba(60, 64, 67, 0.3), 0 1px 3px 1px rgba(60, 64, 67, 0.15);\n",
              "    fill: var(--button-hover-fill-color);\n",
              "  }\n",
              "\n",
              "  .colab-df-quickchart-complete:disabled,\n",
              "  .colab-df-quickchart-complete:disabled:hover {\n",
              "    background-color: var(--disabled-bg-color);\n",
              "    fill: var(--disabled-fill-color);\n",
              "    box-shadow: none;\n",
              "  }\n",
              "\n",
              "  .colab-df-spinner {\n",
              "    border: 2px solid var(--fill-color);\n",
              "    border-color: transparent;\n",
              "    border-bottom-color: var(--fill-color);\n",
              "    animation:\n",
              "      spin 1s steps(1) infinite;\n",
              "  }\n",
              "\n",
              "  @keyframes spin {\n",
              "    0% {\n",
              "      border-color: transparent;\n",
              "      border-bottom-color: var(--fill-color);\n",
              "      border-left-color: var(--fill-color);\n",
              "    }\n",
              "    20% {\n",
              "      border-color: transparent;\n",
              "      border-left-color: var(--fill-color);\n",
              "      border-top-color: var(--fill-color);\n",
              "    }\n",
              "    30% {\n",
              "      border-color: transparent;\n",
              "      border-left-color: var(--fill-color);\n",
              "      border-top-color: var(--fill-color);\n",
              "      border-right-color: var(--fill-color);\n",
              "    }\n",
              "    40% {\n",
              "      border-color: transparent;\n",
              "      border-right-color: var(--fill-color);\n",
              "      border-top-color: var(--fill-color);\n",
              "    }\n",
              "    60% {\n",
              "      border-color: transparent;\n",
              "      border-right-color: var(--fill-color);\n",
              "    }\n",
              "    80% {\n",
              "      border-color: transparent;\n",
              "      border-right-color: var(--fill-color);\n",
              "      border-bottom-color: var(--fill-color);\n",
              "    }\n",
              "    90% {\n",
              "      border-color: transparent;\n",
              "      border-bottom-color: var(--fill-color);\n",
              "    }\n",
              "  }\n",
              "</style>\n",
              "\n",
              "  <script>\n",
              "    async function quickchart(key) {\n",
              "      const quickchartButtonEl =\n",
              "        document.querySelector('#' + key + ' button');\n",
              "      quickchartButtonEl.disabled = true;  // To prevent multiple clicks.\n",
              "      quickchartButtonEl.classList.add('colab-df-spinner');\n",
              "      try {\n",
              "        const charts = await google.colab.kernel.invokeFunction(\n",
              "            'suggestCharts', [key], {});\n",
              "      } catch (error) {\n",
              "        console.error('Error during call to suggestCharts:', error);\n",
              "      }\n",
              "      quickchartButtonEl.classList.remove('colab-df-spinner');\n",
              "      quickchartButtonEl.classList.add('colab-df-quickchart-complete');\n",
              "    }\n",
              "    (() => {\n",
              "      let quickchartButtonEl =\n",
              "        document.querySelector('#df-85de3f88-d950-40df-b336-36fbff01b8e3 button');\n",
              "      quickchartButtonEl.style.display =\n",
              "        google.colab.kernel.accessAllowed ? 'block' : 'none';\n",
              "    })();\n",
              "  </script>\n",
              "</div>\n",
              "\n",
              "    </div>\n",
              "  </div>\n"
            ]
          },
          "metadata": {},
          "execution_count": 45
        }
      ],
      "source": [
        "apriori_rules = association_rules(frequent_itemsets, metric=\"lift\", min_threshold= 1)\n",
        "apriori_rules[ (apriori_rules['lift'] >= 50) & (apriori_rules['confidence'] >= 0.01) ]"
      ]
    },
    {
      "cell_type": "code",
      "execution_count": 46,
      "metadata": {
        "id": "DP4rWnotdySP"
      },
      "outputs": [],
      "source": [
        "def recommendations_using_Apriori(item):\n",
        "    recommend = []\n",
        "    for i in range(0,2646):\n",
        "        if item == apriori_rules.iloc[i,0]:\n",
        "            recommend.append(apriori_rules.iloc[i,1])\n",
        "\n",
        "    return recommend"
      ]
    },
    {
      "cell_type": "code",
      "execution_count": 47,
      "metadata": {
        "id": "Uz2edDiOdySP",
        "colab": {
          "base_uri": "https://localhost:8080/"
        },
        "outputId": "f9051b05-6141-4071-cd3b-3b66863f2205"
      },
      "outputs": [
        {
          "output_type": "stream",
          "name": "stdout",
          "text": [
            "frozenset({'Better Chicken Ramen Soup'})\n",
            "frozenset({'Carlson Blueberry Yogurt'})\n",
            "frozenset({'Framton City Map'})\n",
            "frozenset({'Hermanos Green Pepper'})\n",
            "frozenset({'Hilltop Extra Moisture Shampoo'})\n"
          ]
        }
      ],
      "source": [
        "## 5 Recommendations with Better Chicken Noodle Soup\n",
        "product_name = {'Better Chicken Noodle Soup'}\n",
        "recommentations=recommendations_using_Apriori(product_name)\n",
        "print(*recommentations[0:5], sep = \"\\n\")"
      ]
    },
    {
      "cell_type": "code",
      "execution_count": 48,
      "metadata": {
        "id": "7nJtRUc3dySQ",
        "colab": {
          "base_uri": "https://localhost:8080/"
        },
        "outputId": "eb95fa86-7c88-48b1-e72f-2eb8dee40375"
      },
      "outputs": [
        {
          "output_type": "stream",
          "name": "stdout",
          "text": [
            "frozenset({'Better Chicken Noodle Soup'})\n",
            "frozenset({'Big Time Frozen Cheese Pizza'})\n",
            "frozenset({'Framton City Map'})\n",
            "frozenset({'Great Pumpernickel Bread'})\n",
            "frozenset({'Hermanos Green Pepper'})\n",
            "frozenset({'Hilltop Extra Moisture Shampoo'})\n",
            "frozenset({'Hilltop Silky Smooth Hair Conditioner'})\n",
            "frozenset({'Moms Roasted Chicken'})\n",
            "frozenset({'Nationeel Grape Fruit Roll'})\n",
            "frozenset({'Red Wing 60 Watt Lightbulb'})\n"
          ]
        }
      ],
      "source": [
        "## 10 Recommendations with Moms Potato Salad\n",
        "product_name = {'Moms Potato Salad'}\n",
        "recommentations=recommendations_using_Apriori(product_name)\n",
        "print(*recommentations[0:10], sep = \"\\n\")"
      ]
    },
    {
      "cell_type": "code",
      "execution_count": 49,
      "metadata": {
        "id": "8Oh8ZcrQdySQ",
        "colab": {
          "base_uri": "https://localhost:8080/"
        },
        "outputId": "e52ba3ad-9947-426b-dfcb-5ec0065ae0f2"
      },
      "outputs": [
        {
          "output_type": "stream",
          "name": "stdout",
          "text": [
            "frozenset({'Better Fancy Canned Anchovies'})\n",
            "frozenset({'Fabulous Cranberry Juice'})\n",
            "frozenset({'Great English Muffins'})\n",
            "frozenset({'Hermanos Mandarin Oranges'})\n",
            "frozenset({'Hermanos Squash'})\n",
            "frozenset({'Hermanos Tomatos'})\n",
            "frozenset({'Just Right Turkey Noodle Soup'})\n",
            "frozenset({'Sunset Economy Toilet Brush'})\n",
            "frozenset({'Better Canned Tuna in Oil', 'Just Right Turkey Noodle Soup'})\n",
            "frozenset({'Fabulous Apple Juice', 'Better Fancy Canned Anchovies'})\n",
            "frozenset({'Better Fancy Canned Anchovies', 'Fabulous Cranberry Juice'})\n",
            "frozenset({'Framton City Map', 'Booker 1% Milk'})\n",
            "frozenset({'Steady Childrens Cold Remedy', 'Carlson Jack Cheese'})\n",
            "frozenset({'Carrington Beef TV Dinner', 'Denny 60 Watt Lightbulb'})\n"
          ]
        }
      ],
      "source": [
        "## 15 Recommendations with Carrington Ice Cream Sandwich\n",
        "product_name = {'Carrington Ice Cream Sandwich'}\n",
        "recommentations=recommendations_using_Apriori(product_name)\n",
        "print(*recommentations[0:15], sep = \"\\n\")"
      ]
    },
    {
      "cell_type": "markdown",
      "metadata": {
        "id": "HJEeGdH0dySQ"
      },
      "source": [
        "**Fpgrowth Algorithm & its Recommendations**"
      ]
    },
    {
      "cell_type": "code",
      "execution_count": 50,
      "metadata": {
        "id": "gFzy43WhdySQ"
      },
      "outputs": [],
      "source": [
        "## Frequent Items with support 0.001% using Fpgrowth Algorithm\n",
        "freq_items=fpgrowth(dummy,min_support=.0001,use_colnames=True)\n",
        "## Association Rules using Fpgrowth Algorithm\n",
        "fpgrowth_rules=association_rules(freq_items,metric=\"lift\",min_threshold=1)"
      ]
    },
    {
      "cell_type": "code",
      "execution_count": 51,
      "metadata": {
        "id": "iobHxVAQdySR"
      },
      "outputs": [],
      "source": [
        "def recommendations_using_Fpgrowth(item):\n",
        "    recommend = []\n",
        "    for i in range(0,2646):\n",
        "        if item == fpgrowth_rules.iloc[i,0]:\n",
        "            recommend.append(fpgrowth_rules.iloc[i,1])\n",
        "\n",
        "    return recommend"
      ]
    },
    {
      "cell_type": "code",
      "execution_count": 52,
      "metadata": {
        "id": "0--b_GBYdySR",
        "colab": {
          "base_uri": "https://localhost:8080/"
        },
        "outputId": "610e330e-9fea-475a-b50f-fcf62918ac19"
      },
      "outputs": [
        {
          "output_type": "stream",
          "name": "stdout",
          "text": [
            "frozenset({'Moms Potato Salad'})\n",
            "frozenset({'Special Wheat Puffs', 'Moms Potato Salad'})\n",
            "frozenset({'Sunset Large Sponge'})\n",
            "frozenset({'Sunset Large Sponge', 'Better Chicken Ramen Soup'})\n",
            "frozenset({'Special Wheat Puffs'})\n"
          ]
        }
      ],
      "source": [
        "## 5 Recommendations with Better Chicken Noodle Soup\n",
        "product_name = {'Better Chicken Noodle Soup'}\n",
        "recommentations=recommendations_using_Fpgrowth(product_name)\n",
        "print(*recommentations[0:5], sep = \"\\n\")"
      ]
    },
    {
      "cell_type": "code",
      "execution_count": 53,
      "metadata": {
        "id": "iH2pcLRydySR",
        "colab": {
          "base_uri": "https://localhost:8080/"
        },
        "outputId": "3438a712-b8aa-40e7-dbde-2058c525c58a"
      },
      "outputs": [
        {
          "output_type": "stream",
          "name": "stdout",
          "text": [
            "frozenset({'Better Chicken Noodle Soup'})\n",
            "frozenset({'Framton City Map'})\n",
            "frozenset({'Great Pumpernickel Bread'})\n",
            "frozenset({'Hilltop Extra Moisture Shampoo'})\n",
            "frozenset({'Red Wing 60 Watt Lightbulb'})\n",
            "frozenset({'Steady 200 MG Acetominifen'})\n",
            "frozenset({'Big Time Frozen Cheese Pizza'})\n",
            "frozenset({'Hilltop Silky Smooth Hair Conditioner'})\n",
            "frozenset({'Hermanos Green Pepper'})\n",
            "frozenset({'Better Chicken Noodle Soup', 'Special Wheat Puffs'})\n"
          ]
        }
      ],
      "source": [
        "## 10 Recommendations with Moms Potato Salad\n",
        "product_name = {'Moms Potato Salad'}\n",
        "recommentations=recommendations_using_Fpgrowth(product_name)\n",
        "print(*recommentations[0:10], sep = \"\\n\")"
      ]
    },
    {
      "cell_type": "code",
      "execution_count": 54,
      "metadata": {
        "id": "gyUd2a67dySR",
        "colab": {
          "base_uri": "https://localhost:8080/"
        },
        "outputId": "a40fadb9-053f-4f5d-b2cf-740bc209600e"
      },
      "outputs": [
        {
          "output_type": "stream",
          "name": "stdout",
          "text": [
            "frozenset({'Fabulous Cranberry Juice'})\n",
            "frozenset({'Better Fancy Canned Anchovies', 'Fabulous Cranberry Juice'})\n",
            "frozenset({'Hermanos Mandarin Oranges'})\n",
            "frozenset({'Hermanos Tomatos'})\n",
            "frozenset({'Hermanos Squash'})\n",
            "frozenset({'Sunset Economy Toilet Brush'})\n",
            "frozenset({'Better Fancy Canned Anchovies'})\n",
            "frozenset({'Just Right Turkey Noodle Soup'})\n",
            "frozenset({'Great English Muffins'})\n",
            "frozenset({'Carrington Beef TV Dinner', 'Denny 60 Watt Lightbulb'})\n",
            "frozenset({'Steady Childrens Cold Remedy', 'Carlson Jack Cheese'})\n",
            "frozenset({'Framton City Map', 'Booker 1% Milk'})\n",
            "frozenset({'Better Canned Tuna in Oil', 'Just Right Turkey Noodle Soup'})\n",
            "frozenset({'Fabulous Apple Juice', 'Better Fancy Canned Anchovies'})\n"
          ]
        }
      ],
      "source": [
        "## 15 Recommendations with Carrington Ice Cream Sandwich\n",
        "product_name = {'Carrington Ice Cream Sandwich'}\n",
        "recommentations=recommendations_using_Fpgrowth(product_name)\n",
        "print(*recommentations[0:15], sep = \"\\n\")"
      ]
    },
    {
      "cell_type": "markdown",
      "metadata": {
        "id": "BhF4nH01dySR"
      },
      "source": [
        "**Apriori vs fpgrowth Algorithm: Performance measure**"
      ]
    },
    {
      "cell_type": "code",
      "execution_count": 55,
      "metadata": {
        "id": "P_XJiy1QdySR"
      },
      "outputs": [],
      "source": [
        "## Calculating Run Time of Apriori Algorithm\n",
        "import time\n",
        "l=[0.01,0.02,0.03,0.04,0.05]\n",
        "t=[]\n",
        "for i in l:\n",
        "    t1=time.time()\n",
        "    apriori(dummy,min_support=i,use_colnames=True)\n",
        "    t2=time.time()\n",
        "    t.append((t2-t1)*1000)"
      ]
    },
    {
      "cell_type": "code",
      "execution_count": 56,
      "metadata": {
        "id": "aaL02BhIdySS"
      },
      "outputs": [],
      "source": [
        "## Calculating Run Time of Fpgrowth Algorithm\n",
        "l=[0.01,0.02,0.03,0.04,0.05]\n",
        "f=[]\n",
        "for i in l:\n",
        "    t1=time.time()\n",
        "    fpgrowth(dummy,min_support=i,use_colnames=True)\n",
        "    t2=time.time()\n",
        "    f.append((t2-t1)*1000)"
      ]
    },
    {
      "cell_type": "markdown",
      "metadata": {
        "id": "5v2Vs1v9dySS"
      },
      "source": [
        "**Graph of Run Time between Apriori and Fpgrowth Algorithm**"
      ]
    },
    {
      "cell_type": "code",
      "execution_count": 57,
      "metadata": {
        "id": "CU-BXLm1dySS",
        "colab": {
          "base_uri": "https://localhost:8080/",
          "height": 564
        },
        "outputId": "cb92d9b6-98e3-4e41-8930-ea4465b51fc8"
      },
      "outputs": [
        {
          "output_type": "display_data",
          "data": {
            "text/plain": [
              "<Figure size 800x600 with 1 Axes>"
            ],
            "image/png": "[encoded data removed]"
          },
          "metadata": {}
        }
      ],
      "source": [
        "sns.lineplot(x=l,y=f,label=\"fpgrowth\")\n",
        "sns.lineplot(x=l,y=t,label=\"apriori\")\n",
        "plt.title(\"Performance of Apriori and FP growth algorithms\")\n",
        "plt.xlabel(\"Min_support Threshold\")\n",
        "plt.ylabel(\"Run Time in ms\")\n",
        "plt.show()"
      ]
    },
    {
      "cell_type": "markdown",
      "source": [
        "Comments: For low support values, Apriori is taking more time while FP growth is performing well."
      ],
      "metadata": {
        "id": "SkHwhEBmGC4c"
      }
    },
    {
      "cell_type": "markdown",
      "source": [
        "**Thank You**"
      ],
      "metadata": {
        "id": "uz6Kc9qrEokU"
      }
    }
  ],
  "metadata": {
    "kernelspec": {
      "display_name": "Python 3",
      "name": "python3"
    },
    "language_info": {
      "codemirror_mode": {
        "name": "ipython",
        "version": 3
      },
      "file_extension": ".py",
      "mimetype": "text/x-python",
      "name": "python",
      "nbconvert_exporter": "python",
      "pygments_lexer": "ipython3",
      "version": "3.7.6"
    },
    "colab": {
      "provenance": [],
      "gpuType": "T4",
      "include_colab_link": true
    },
    "accelerator": "GPU"
  },
  "nbformat": 4,
  "nbformat_minor": 0
}